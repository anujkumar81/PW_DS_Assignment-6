{
 "cells": [
  {
   "cell_type": "code",
   "execution_count": 1,
   "id": "867328d8-0eed-4456-bd75-239a5136e3d6",
   "metadata": {},
   "outputs": [],
   "source": [
    "# Question 1:\n",
    "\"\"\"Explain Class and Object with respect to Object-Oriented Programming. Give a suitable example.\"\"\"\n",
    "# Answer:\n",
    "\n",
    "class Car:\n",
    "    def __init__(self, make, model, year):\n",
    "        self.make = make\n",
    "        self.model = model\n",
    "        self.year = year\n",
    "        self.is_running = False\n",
    "\n",
    "    def start(self):\n",
    "        self.is_running = True\n",
    "        print(f\"The {self.year} {self.make} {self.model} is now running.\")\n",
    "\n",
    "    def stop(self):\n",
    "        self.is_running = False\n",
    "        print(f\"The {self.year} {self.make} {self.model} has stopped.\")"
   ]
  },
  {
   "cell_type": "code",
   "execution_count": 2,
   "id": "6aab5e55-657a-4faf-93f5-83cdfd083f09",
   "metadata": {},
   "outputs": [],
   "source": [
    "car1 = Car(\"Toyota\", \"Camry\", 2022)\n",
    "car2 = Car(\"Ford\", \"Mustang\", 2023)"
   ]
  },
  {
   "cell_type": "code",
   "execution_count": 4,
   "id": "07d60044-f3a7-4c07-abff-0d9df5d794c9",
   "metadata": {},
   "outputs": [
    {
     "name": "stdout",
     "output_type": "stream",
     "text": [
      "The 2022 Toyota Camry is now running.\n",
      "The 2023 Ford Mustang is now running.\n",
      "The 2022 Toyota Camry has stopped.\n",
      "The 2023 Ford Mustang has stopped.\n"
     ]
    }
   ],
   "source": [
    "car1.start()\n",
    "car2.start()\n",
    "car1.stop()\n",
    "car2.stop()"
   ]
  },
  {
   "cell_type": "code",
   "execution_count": null,
   "id": "8bf59653-9ef5-45da-9377-d174216fe0f7",
   "metadata": {},
   "outputs": [
    {
     "data": {
      "text/plain": [
       "'Encapsulation: Encapsulation refers to the practice of bundling data (attributes) and methods (functions) that operate on the data into a single unit called a class. It helps in controlling access to the internal state of objects and provides a way to hide implementation details. This allows for better organization and maintenance of code.\\n\\nAbstraction: Abstraction involves simplifying complex reality by modeling classes based on real-world entities. It allows you to focus on the essential properties and behaviors of an object while ignoring irrelevant details. Abstraction helps in managing complexity and providing a clear interface for interacting with objects.\\n\\nInheritance: Inheritance is a mechanism that allows a new class (subclass or derived class) to inherit properties and behaviors from an existing class (superclass or base class). It promotes code reuse and establishes a hierarchical relationship between classes. Subclasses can extend and specialize the behavior of their parent classes.\\n\\nPolymorphism: Polymorphism means \"many forms\" and refers to the ability of different objects to respond to the same method in a way that is specific to their individual types. It allows you to write code that can work with objects of multiple classes without needing to know the specific class of each object. Polymorphism is often achieved through method overriding and interface implementations.'"
      ]
     },
     "execution_count": 11,
     "metadata": {},
     "output_type": "execute_result"
    }
   ],
   "source": [
    "# Question 2:\n",
    "\"\"\"Name the four pillars of OOPs.\"\"\"\n",
    "# Answer:\n",
    "'''Encapsulation: Encapsulation refers to the practice of bundling data (attributes) and methods (functions) that operate on the data into a single unit called a class. It helps in controlling access to the internal state of objects and provides a way to hide implementation details. This allows for better organization and maintenance of code.\n",
    "\n",
    "Abstraction: Abstraction involves simplifying complex reality by modeling classes based on real-world entities. It allows you to focus on the essential properties and behaviors of an object while ignoring irrelevant details. Abstraction helps in managing complexity and providing a clear interface for interacting with objects.\n",
    "\n",
    "Inheritance: Inheritance is a mechanism that allows a new class (subclass or derived class) to inherit properties and behaviors from an existing class (superclass or base class). It promotes code reuse and establishes a hierarchical relationship between classes. Subclasses can extend and specialize the behavior of their parent classes.\n",
    "\n",
    "Polymorphism: Polymorphism means \"many forms\" and refers to the ability of different objects to respond to the same method in a way that is specific to their individual types. It allows you to write code that can work with objects of multiple classes without needing to know the specific class of each object. Polymorphism is often achieved through method overriding and interface implementations.'''"
   ]
  },
  {
   "cell_type": "code",
   "execution_count": 9,
   "id": "059114e3-10a7-4d5c-944e-930433cb272c",
   "metadata": {},
   "outputs": [
    {
     "name": "stdout",
     "output_type": "stream",
     "text": [
      "Hi, my name is Anuj and I am 22 years old.\n",
      "Hi, my name is Rahul and I am 25 years old.\n"
     ]
    }
   ],
   "source": [
    "# Question 3:\n",
    "'''Explain why the __init__() function is used. Give a suitable example.'''\n",
    "# Answer:\n",
    "'''In object-oriented programming, the __init__() function (also known as the constructor) is a special method that is automatically called when an object of a class is created. Its primary purpose is to initialize the attributes (data members) of the object with the values provided during object creation. This function helps set up the initial state of the object and prepare it for use.'''\n",
    "\n",
    "# Example:\n",
    "class Person:\n",
    "    def __init__(self, name, age):\n",
    "        self.name = name\n",
    "        self.age = age\n",
    "\n",
    "    def introduce(self):\n",
    "        print(f\"Hi, my name is {self.name} and I am {self.age} years old.\")\n",
    "\n",
    "person1 = Person(\"Anuj\", 22)\n",
    "person2 = Person(\"Rahul\", 25)\n",
    "\n",
    "person1.introduce()\n",
    "person2.introduce()"
   ]
  },
  {
   "cell_type": "code",
   "execution_count": 10,
   "id": "a4e629a4-9470-45ed-bdac-3e052c3326c9",
   "metadata": {},
   "outputs": [
    {
     "name": "stdout",
     "output_type": "stream",
     "text": [
      "The area of the circle is: 78.5\n"
     ]
    }
   ],
   "source": [
    "# Question 4:\n",
    "'''Why self is used in OOPs?'''\n",
    "\n",
    "# Answer:\n",
    "\"\"\"Accessing Instance Attributes: Inside a class method, you use self to access the instance attributes of the object. This allows you to work with the data specific to that particular instance.\n",
    "\n",
    "Modifying Instance Attributes: self is used to modify the values of instance attributes. When you modify an attribute within a method, you use self.attribute_name to indicate that you are referring to the attribute of the current instance.\n",
    "\n",
    "Calling Other Methods: If you want to call another method within a class, you use self.method_name(). This ensures that you are calling the method on the same object that the current method is being executed on.\"\"\"\n",
    "# Example:\n",
    "class Circle:\n",
    "    def __init__(self, radius):\n",
    "        self.radius = radius\n",
    "\n",
    "    def calculate_area(self):\n",
    "        area = 3.14 * self.radius ** 2\n",
    "        return area\n",
    "\n",
    "circle = Circle(5)\n",
    "\n",
    "area = circle.calculate_area()\n",
    "print(f\"The area of the circle is: {area}\")\n"
   ]
  },
  {
   "cell_type": "code",
   "execution_count": 12,
   "id": "de866f4f-87a2-422c-9f2a-bed676232afb",
   "metadata": {},
   "outputs": [],
   "source": [
    "# Question 5:\n",
    "'''What is inheritance? Give an example for each type of inheritance.'''\n",
    "# Answer:\n",
    "# Difinition of inheritance.\n",
    "\"\"\"Inheritance is a fundamental concept in object-oriented programming (OOP) that allows a new class (subclass or derived class) to inherit attributes and behaviors (methods) from an existing class (superclass or base class). This promotes code reuse and establishes a hierarchical relationship between classes, where the subclass can extend or specialize the functionality of the superclass.\"\"\"\n",
    "# Types of Inheritance\n",
    "\n",
    "# 1. Single Inheritance\n",
    "# 2. Multiple Inheritance\n",
    "# 3. Multilevel inheritance\n",
    "# 4. Hierarchical Inheritance\n",
    "# 5. Hybrid Inheritance"
   ]
  },
  {
   "cell_type": "code",
   "execution_count": null,
   "id": "ea990995-c953-4a9a-bc0d-bce46f97e11b",
   "metadata": {},
   "outputs": [],
   "source": [
    "# 1. Single Inheritance : In single inheritance, a subclass inherits from only one superclass.\n",
    "\n",
    "# Example:\n",
    "class Animal:\n",
    "    def speak(self):\n",
    "        pass\n",
    "\n",
    "class Dog(Animal):\n",
    "    def speak(self):\n",
    "        return \"Woof!\"\n",
    "\n",
    "class Cat(Animal):\n",
    "    def speak(self):\n",
    "        return \"Meow!\""
   ]
  },
  {
   "cell_type": "code",
   "execution_count": 13,
   "id": "4cabb55d-c83b-4048-a444-b35b745f2968",
   "metadata": {},
   "outputs": [],
   "source": [
    "# 2. Multiple Inheritance: In multiple inheritance, a subclass can inherit from more than one superclass. This allows the subclass to inherit attributes and methods from multiple sources.\n",
    "# Example:\n",
    "\n",
    "class Bird:\n",
    "    def fly(self):\n",
    "        pass\n",
    "\n",
    "class Mammal:\n",
    "    def feed_milk(self):\n",
    "        pass\n",
    "\n",
    "class Bat(Bird, Mammal):\n",
    "    def fly(self):\n",
    "        return \"Bat flying.\"\n",
    "\n",
    "class Whale(Mammal):\n",
    "    def feed_milk(self):\n",
    "        return \"Whale feeding milk.\""
   ]
  },
  {
   "cell_type": "code",
   "execution_count": 14,
   "id": "c43586be-de15-41b7-bb7b-11910a696a6a",
   "metadata": {},
   "outputs": [],
   "source": [
    "# 3. Multilevel Inheritance: In multilevel inheritance, a subclass inherits from a superclass, and another class inherits from that subclass, forming a chain of inheritance.\n",
    "#Example:\n",
    "\n",
    "class Vehicle:\n",
    "    def start_engine(self):\n",
    "        pass\n",
    "\n",
    "class Car(Vehicle):\n",
    "    def start_engine(self):\n",
    "        return \"Car engine started.\"\n",
    "\n",
    "class ElectricCar(Car):\n",
    "    def start_engine(self):\n",
    "        return \"Electric car engine started.\""
   ]
  },
  {
   "cell_type": "code",
   "execution_count": 16,
   "id": "13541f97-e39e-401a-b468-5e34b54d335f",
   "metadata": {},
   "outputs": [],
   "source": [
    "# 4. Hierarchical Inheritance: In hierarchical inheritance, multiple subclasses inherit from a single superclass.\n",
    "#Example:\n",
    "\n",
    "class Shape:\n",
    "    def area(self):\n",
    "        pass\n",
    "\n",
    "class Circle(Shape):\n",
    "    def area(self):\n",
    "        return \"Area of circle.\"\n",
    "\n",
    "class Rectangle(Shape):\n",
    "    def area(self):\n",
    "        return \"Area of rectangle.\"\n",
    "\n",
    "class Triangle(Shape):\n",
    "    def area(self):\n",
    "        return \"Area of triangle.\""
   ]
  },
  {
   "cell_type": "code",
   "execution_count": 15,
   "id": "c647d3ab-bc08-47a2-b3b7-ea8d50d8f658",
   "metadata": {},
   "outputs": [],
   "source": [
    "# 5. Hybrid Inheritance: Hybrid inheritance combines different types of inheritance in a single program. It can involve a mix of single, multiple, multilevel, or hierarchical inheritance.\n",
    "#Example:\n",
    "\n",
    "class A:\n",
    "    def method_a(self):\n",
    "        pass\n",
    "\n",
    "class B(A):\n",
    "    def method_b(self):\n",
    "        pass\n",
    "\n",
    "class C(A):\n",
    "    def method_c(self):\n",
    "        pass\n",
    "\n",
    "class D(B, C):\n",
    "    def method_d(self):\n",
    "        pass\n",
    "    "
   ]
  },
  {
   "cell_type": "code",
   "execution_count": null,
   "id": "328b2962-1a39-4e86-b7c2-6ac65a7dee15",
   "metadata": {},
   "outputs": [],
   "source": []
  }
 ],
 "metadata": {
  "kernelspec": {
   "display_name": "Python 3 (ipykernel)",
   "language": "python",
   "name": "python3"
  },
  "language_info": {
   "codemirror_mode": {
    "name": "ipython",
    "version": 3
   },
   "file_extension": ".py",
   "mimetype": "text/x-python",
   "name": "python",
   "nbconvert_exporter": "python",
   "pygments_lexer": "ipython3",
   "version": "3.10.8"
  }
 },
 "nbformat": 4,
 "nbformat_minor": 5
}
